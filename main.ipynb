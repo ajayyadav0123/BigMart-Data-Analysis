{
 "cells": [
  {
   "cell_type": "code",
   "execution_count": 33,
   "metadata": {},
   "outputs": [],
   "source": [
    "import pandas as pd\n",
    "import numpy as np"
   ]
  },
  {
   "cell_type": "code",
   "execution_count": 35,
   "metadata": {},
   "outputs": [
    {
     "name": "stdout",
     "output_type": "stream",
     "text": [
      "     Item_Identifier  Item_Weight Item_Fat_Content  Item_Visibility  \\\n",
      "0              FDA15        9.300          Low Fat         0.016047   \n",
      "1              DRC01        5.920          Regular         0.019278   \n",
      "2              FDN15       17.500          Low Fat         0.016760   \n",
      "3              FDX07       19.200          Regular         0.000000   \n",
      "4              NCD19        8.930          Low Fat         0.000000   \n",
      "5              FDP36       10.395          Regular         0.000000   \n",
      "6              FDO10       13.650          Regular         0.012741   \n",
      "7              FDP10          NaN          Low Fat         0.127470   \n",
      "8              FDH17       16.200          Regular         0.016687   \n",
      "9              FDU28       19.200          Regular         0.094450   \n",
      "10             FDY07       11.800          Low Fat         0.000000   \n",
      "11             FDA03       18.500          Regular         0.045464   \n",
      "12             FDX32       15.100          Regular         0.100014   \n",
      "13             FDS46       17.600          Regular         0.047257   \n",
      "14             FDF32       16.350          Low Fat         0.068024   \n",
      "15             FDP49        9.000          Regular         0.069089   \n",
      "16             NCB42       11.800          Low Fat         0.008596   \n",
      "17             FDP49        9.000          Regular         0.069196   \n",
      "18             DRI11          NaN          Low Fat         0.034238   \n",
      "19             FDU02       13.350          Low Fat         0.102492   \n",
      "20             FDN22       18.850          Regular         0.138190   \n",
      "21             FDW12          NaN          Regular         0.035400   \n",
      "22             NCB30       14.600          Low Fat         0.025698   \n",
      "23             FDC37          NaN          Low Fat         0.057557   \n",
      "24             FDR28       13.850          Regular         0.025896   \n",
      "25             NCD06       13.000          Low Fat         0.099887   \n",
      "26             FDV10        7.645          Regular         0.066693   \n",
      "27             DRJ59       11.650          low fat         0.019356   \n",
      "28             FDE51        5.925          Regular         0.161467   \n",
      "29             FDC14          NaN          Regular         0.072222   \n",
      "...              ...          ...              ...              ...   \n",
      "8493           FDP21        7.420          Regular         0.025886   \n",
      "8494           NCI54       15.200          Low Fat         0.000000   \n",
      "8495           FDE22        9.695          Low Fat         0.029567   \n",
      "8496           FDJ57        7.420          Regular         0.021696   \n",
      "8497           FDT08       13.650          Low Fat         0.049209   \n",
      "8498           NCP54       15.350          Low Fat         0.035293   \n",
      "8499           NCK53       11.600          Low Fat         0.037574   \n",
      "8500           NCQ42       20.350          Low Fat         0.000000   \n",
      "8501           FDW21        5.340          Regular         0.005998   \n",
      "8502           NCH43        8.420          Low Fat         0.070712   \n",
      "8503           FDQ44       20.500          Low Fat         0.036133   \n",
      "8504           NCN18          NaN          Low Fat         0.124111   \n",
      "8505           FDB46       10.500          Regular         0.094146   \n",
      "8506           DRF37       17.250          Low Fat         0.084676   \n",
      "8507           FDN28        5.880          Regular         0.030242   \n",
      "8508           FDW31       11.350          Regular         0.043246   \n",
      "8509           FDG45        8.100          Low Fat         0.214306   \n",
      "8510           FDN58       13.800          Regular         0.056862   \n",
      "8511           FDF05       17.500          Low Fat         0.026980   \n",
      "8512           FDR26       20.700          Low Fat         0.042801   \n",
      "8513           FDH31       12.000          Regular         0.020407   \n",
      "8514           FDA01       15.000          Regular         0.054489   \n",
      "8515           FDH24       20.700          Low Fat         0.021518   \n",
      "8516           NCJ19       18.600          Low Fat         0.118661   \n",
      "8517           FDF53       20.750              reg         0.083607   \n",
      "8518           FDF22        6.865          Low Fat         0.056783   \n",
      "8519           FDS36        8.380          Regular         0.046982   \n",
      "8520           NCJ29       10.600          Low Fat         0.035186   \n",
      "8521           FDN46        7.210          Regular         0.145221   \n",
      "8522           DRG01       14.800          Low Fat         0.044878   \n",
      "\n",
      "                  Item_Type  Item_MRP Outlet_Identifier  \\\n",
      "0                     Dairy  249.8092            OUT049   \n",
      "1               Soft Drinks   48.2692            OUT018   \n",
      "2                      Meat  141.6180            OUT049   \n",
      "3     Fruits and Vegetables  182.0950            OUT010   \n",
      "4                 Household   53.8614            OUT013   \n",
      "5              Baking Goods   51.4008            OUT018   \n",
      "6               Snack Foods   57.6588            OUT013   \n",
      "7               Snack Foods  107.7622            OUT027   \n",
      "8              Frozen Foods   96.9726            OUT045   \n",
      "9              Frozen Foods  187.8214            OUT017   \n",
      "10    Fruits and Vegetables   45.5402            OUT049   \n",
      "11                    Dairy  144.1102            OUT046   \n",
      "12    Fruits and Vegetables  145.4786            OUT049   \n",
      "13              Snack Foods  119.6782            OUT046   \n",
      "14    Fruits and Vegetables  196.4426            OUT013   \n",
      "15                Breakfast   56.3614            OUT046   \n",
      "16       Health and Hygiene  115.3492            OUT018   \n",
      "17                Breakfast   54.3614            OUT049   \n",
      "18              Hard Drinks  113.2834            OUT027   \n",
      "19                    Dairy  230.5352            OUT035   \n",
      "20              Snack Foods  250.8724            OUT013   \n",
      "21             Baking Goods  144.5444            OUT027   \n",
      "22                Household  196.5084            OUT035   \n",
      "23             Baking Goods  107.6938            OUT019   \n",
      "24             Frozen Foods  165.0210            OUT046   \n",
      "25                Household   45.9060            OUT017   \n",
      "26              Snack Foods   42.3112            OUT035   \n",
      "27              Hard Drinks   39.1164            OUT013   \n",
      "28                    Dairy   45.5086            OUT010   \n",
      "29                   Canned   43.6454            OUT019   \n",
      "...                     ...       ...               ...   \n",
      "8493            Snack Foods  189.1872            OUT017   \n",
      "8494              Household  110.4912            OUT017   \n",
      "8495            Snack Foods  160.4920            OUT035   \n",
      "8496                Seafood  185.3582            OUT017   \n",
      "8497  Fruits and Vegetables  150.0050            OUT035   \n",
      "8498              Household  124.5730            OUT018   \n",
      "8499     Health and Hygiene  100.0042            OUT035   \n",
      "8500              Household  125.1678            OUT017   \n",
      "8501            Snack Foods  100.4358            OUT017   \n",
      "8502              Household  216.4192            OUT045   \n",
      "8503  Fruits and Vegetables  120.1756            OUT035   \n",
      "8504              Household  111.7544            OUT027   \n",
      "8505            Snack Foods  210.8244            OUT018   \n",
      "8506            Soft Drinks  263.1910            OUT018   \n",
      "8507           Frozen Foods  101.7990            OUT035   \n",
      "8508  Fruits and Vegetables  199.4742            OUT045   \n",
      "8509  Fruits and Vegetables  213.9902            OUT010   \n",
      "8510            Snack Foods  231.5984            OUT035   \n",
      "8511           Frozen Foods  262.5910            OUT018   \n",
      "8512                  Dairy  178.3028            OUT013   \n",
      "8513                   Meat   99.9042            OUT035   \n",
      "8514                 Canned   57.5904            OUT045   \n",
      "8515           Baking Goods  157.5288            OUT018   \n",
      "8516                 Others   58.7588            OUT018   \n",
      "8517           Frozen Foods  178.8318            OUT046   \n",
      "8518            Snack Foods  214.5218            OUT013   \n",
      "8519           Baking Goods  108.1570            OUT045   \n",
      "8520     Health and Hygiene   85.1224            OUT035   \n",
      "8521            Snack Foods  103.1332            OUT018   \n",
      "8522            Soft Drinks   75.4670            OUT046   \n",
      "\n",
      "      Outlet_Establishment_Year Outlet_Size Outlet_Location_Type  \\\n",
      "0                          1999      Medium               Tier 1   \n",
      "1                          2009      Medium               Tier 3   \n",
      "2                          1999      Medium               Tier 1   \n",
      "3                          1998         NaN               Tier 3   \n",
      "4                          1987        High               Tier 3   \n",
      "5                          2009      Medium               Tier 3   \n",
      "6                          1987        High               Tier 3   \n",
      "7                          1985      Medium               Tier 3   \n",
      "8                          2002         NaN               Tier 2   \n",
      "9                          2007         NaN               Tier 2   \n",
      "10                         1999      Medium               Tier 1   \n",
      "11                         1997       Small               Tier 1   \n",
      "12                         1999      Medium               Tier 1   \n",
      "13                         1997       Small               Tier 1   \n",
      "14                         1987        High               Tier 3   \n",
      "15                         1997       Small               Tier 1   \n",
      "16                         2009      Medium               Tier 3   \n",
      "17                         1999      Medium               Tier 1   \n",
      "18                         1985      Medium               Tier 3   \n",
      "19                         2004       Small               Tier 2   \n",
      "20                         1987        High               Tier 3   \n",
      "21                         1985      Medium               Tier 3   \n",
      "22                         2004       Small               Tier 2   \n",
      "23                         1985       Small               Tier 1   \n",
      "24                         1997       Small               Tier 1   \n",
      "25                         2007         NaN               Tier 2   \n",
      "26                         2004       Small               Tier 2   \n",
      "27                         1987        High               Tier 3   \n",
      "28                         1998         NaN               Tier 3   \n",
      "29                         1985       Small               Tier 1   \n",
      "...                         ...         ...                  ...   \n",
      "8493                       2007         NaN               Tier 2   \n",
      "8494                       2007         NaN               Tier 2   \n",
      "8495                       2004       Small               Tier 2   \n",
      "8496                       2007         NaN               Tier 2   \n",
      "8497                       2004       Small               Tier 2   \n",
      "8498                       2009      Medium               Tier 3   \n",
      "8499                       2004       Small               Tier 2   \n",
      "8500                       2007         NaN               Tier 2   \n",
      "8501                       2007         NaN               Tier 2   \n",
      "8502                       2002         NaN               Tier 2   \n",
      "8503                       2004       Small               Tier 2   \n",
      "8504                       1985      Medium               Tier 3   \n",
      "8505                       2009      Medium               Tier 3   \n",
      "8506                       2009      Medium               Tier 3   \n",
      "8507                       2004       Small               Tier 2   \n",
      "8508                       2002         NaN               Tier 2   \n",
      "8509                       1998         NaN               Tier 3   \n",
      "8510                       2004       Small               Tier 2   \n",
      "8511                       2009      Medium               Tier 3   \n",
      "8512                       1987        High               Tier 3   \n",
      "8513                       2004       Small               Tier 2   \n",
      "8514                       2002         NaN               Tier 2   \n",
      "8515                       2009      Medium               Tier 3   \n",
      "8516                       2009      Medium               Tier 3   \n",
      "8517                       1997       Small               Tier 1   \n",
      "8518                       1987        High               Tier 3   \n",
      "8519                       2002         NaN               Tier 2   \n",
      "8520                       2004       Small               Tier 2   \n",
      "8521                       2009      Medium               Tier 3   \n",
      "8522                       1997       Small               Tier 1   \n",
      "\n",
      "            Outlet_Type  Item_Outlet_Sales  \n",
      "0     Supermarket Type1          3735.1380  \n",
      "1     Supermarket Type2           443.4228  \n",
      "2     Supermarket Type1          2097.2700  \n",
      "3         Grocery Store           732.3800  \n",
      "4     Supermarket Type1           994.7052  \n",
      "5     Supermarket Type2           556.6088  \n",
      "6     Supermarket Type1           343.5528  \n",
      "7     Supermarket Type3          4022.7636  \n",
      "8     Supermarket Type1          1076.5986  \n",
      "9     Supermarket Type1          4710.5350  \n",
      "10    Supermarket Type1          1516.0266  \n",
      "11    Supermarket Type1          2187.1530  \n",
      "12    Supermarket Type1          1589.2646  \n",
      "13    Supermarket Type1          2145.2076  \n",
      "14    Supermarket Type1          1977.4260  \n",
      "15    Supermarket Type1          1547.3192  \n",
      "16    Supermarket Type2          1621.8888  \n",
      "17    Supermarket Type1           718.3982  \n",
      "18    Supermarket Type3          2303.6680  \n",
      "19    Supermarket Type1          2748.4224  \n",
      "20    Supermarket Type1          3775.0860  \n",
      "21    Supermarket Type3          4064.0432  \n",
      "22    Supermarket Type1          1587.2672  \n",
      "23        Grocery Store           214.3876  \n",
      "24    Supermarket Type1          4078.0250  \n",
      "25    Supermarket Type1           838.9080  \n",
      "26    Supermarket Type1          1065.2800  \n",
      "27    Supermarket Type1           308.9312  \n",
      "28        Grocery Store           178.4344  \n",
      "29        Grocery Store           125.8362  \n",
      "...                 ...                ...  \n",
      "8493  Supermarket Type1          4727.1800  \n",
      "8494  Supermarket Type1          1637.8680  \n",
      "8495  Supermarket Type1          4314.3840  \n",
      "8496  Supermarket Type1          3715.1640  \n",
      "8497  Supermarket Type1          2247.0750  \n",
      "8498  Supermarket Type2          1601.2490  \n",
      "8499  Supermarket Type1          2976.1260  \n",
      "8500  Supermarket Type1          1907.5170  \n",
      "8501  Supermarket Type1          1508.0370  \n",
      "8502  Supermarket Type1          3020.0688  \n",
      "8503  Supermarket Type1          3392.9168  \n",
      "8504  Supermarket Type3          4138.6128  \n",
      "8505  Supermarket Type2          2117.2440  \n",
      "8506  Supermarket Type2          3944.8650  \n",
      "8507  Supermarket Type1           515.9950  \n",
      "8508  Supermarket Type1          2587.9646  \n",
      "8509      Grocery Store           424.7804  \n",
      "8510  Supermarket Type1          7182.6504  \n",
      "8511  Supermarket Type2          4207.8560  \n",
      "8512  Supermarket Type1          2479.4392  \n",
      "8513  Supermarket Type1           595.2252  \n",
      "8514  Supermarket Type1           468.7232  \n",
      "8515  Supermarket Type2          1571.2880  \n",
      "8516  Supermarket Type2           858.8820  \n",
      "8517  Supermarket Type1          3608.6360  \n",
      "8518  Supermarket Type1          2778.3834  \n",
      "8519  Supermarket Type1           549.2850  \n",
      "8520  Supermarket Type1          1193.1136  \n",
      "8521  Supermarket Type2          1845.5976  \n",
      "8522  Supermarket Type1           765.6700  \n",
      "\n",
      "[8523 rows x 12 columns]\n",
      "     Item_Identifier  Item_Weight Item_Fat_Content  Item_Visibility  \\\n",
      "0              FDW58       20.750          Low Fat         0.007565   \n",
      "1              FDW14        8.300              reg         0.038428   \n",
      "2              NCN55       14.600          Low Fat         0.099575   \n",
      "3              FDQ58        7.315          Low Fat         0.015388   \n",
      "4              FDY38          NaN          Regular         0.118599   \n",
      "5              FDH56        9.800          Regular         0.063817   \n",
      "6              FDL48       19.350          Regular         0.082602   \n",
      "7              FDC48          NaN          Low Fat         0.015782   \n",
      "8              FDN33        6.305          Regular         0.123365   \n",
      "9              FDA36        5.985          Low Fat         0.005698   \n",
      "10             FDT44       16.600          Low Fat         0.103569   \n",
      "11             FDQ56        6.590          Low Fat         0.105811   \n",
      "12             NCC54          NaN          Low Fat         0.171079   \n",
      "13             FDU11        4.785          Low Fat         0.092738   \n",
      "14             DRL59       16.750               LF         0.021206   \n",
      "15             FDM24        6.135          Regular         0.079451   \n",
      "16             FDI57       19.850          Low Fat         0.054135   \n",
      "17             DRC12       17.850          Low Fat         0.037981   \n",
      "18             NCM42          NaN          Low Fat         0.028184   \n",
      "19             FDA46       13.600          Low Fat         0.196898   \n",
      "20             FDA31        7.100          Low Fat         0.109920   \n",
      "21             NCJ31       19.200          Low Fat         0.182619   \n",
      "22             FDG52       13.650               LF         0.065631   \n",
      "23             NCL19          NaN          Low Fat         0.027447   \n",
      "24             FDS10       19.200          Low Fat         0.035179   \n",
      "25             FDX22        6.785          Regular         0.038455   \n",
      "26             NCF19       13.000          Low Fat         0.035102   \n",
      "27             NCE06        5.825          Low Fat         0.091485   \n",
      "28             DRC27       13.800          Low Fat         0.058102   \n",
      "29             FDE21       12.800               LF         0.022940   \n",
      "...              ...          ...              ...              ...   \n",
      "5651           FDD23        9.500          Regular         0.048645   \n",
      "5652           FDP32        6.650          Low Fat         0.087847   \n",
      "5653           FDO31        6.760          Regular         0.028977   \n",
      "5654           FDQ57        7.275          Low Fat         0.000000   \n",
      "5655           FDX32          NaN          Regular         0.099375   \n",
      "5656           FDC39          NaN          Low Fat         0.158425   \n",
      "5657           FDU55       16.200          Low Fat         0.035911   \n",
      "5658           FDL45       15.600          Low Fat         0.037656   \n",
      "5659           DRK37        5.000          Low Fat         0.044073   \n",
      "5660           FDK22        9.800          Low Fat         0.026065   \n",
      "5661           DRG37          NaN          Low Fat         0.000000   \n",
      "5662           FDK22        9.800          Low Fat         0.026234   \n",
      "5663           DRH36       16.200          Low Fat         0.033516   \n",
      "5664           DRC36       13.000          Regular         0.045168   \n",
      "5665           DRE03          NaN          Low Fat         0.024110   \n",
      "5666           FDF34        9.300          Regular         0.014019   \n",
      "5667           FDZ22        9.395          Low Fat         0.045270   \n",
      "5668           FDC44       15.600          Low Fat         0.288892   \n",
      "5669           FDN31          NaN          Low Fat         0.072529   \n",
      "5670           FDO03       10.395          Regular         0.037092   \n",
      "5671           FDA01       15.000              reg         0.054463   \n",
      "5672           NCH42        6.860          Low Fat         0.036594   \n",
      "5673           FDF46        7.070          Low Fat         0.094053   \n",
      "5674           DRL35       15.700          Low Fat         0.030704   \n",
      "5675           FDW46       13.000          Regular         0.070411   \n",
      "5676           FDB58       10.500          Regular         0.013496   \n",
      "5677           FDD47        7.600          Regular         0.142991   \n",
      "5678           NCO17       10.000          Low Fat         0.073529   \n",
      "5679           FDJ26       15.300          Regular         0.000000   \n",
      "5680           FDU37        9.500          Regular         0.104720   \n",
      "\n",
      "                  Item_Type  Item_MRP Outlet_Identifier  \\\n",
      "0               Snack Foods  107.8622            OUT049   \n",
      "1                     Dairy   87.3198            OUT017   \n",
      "2                    Others  241.7538            OUT010   \n",
      "3               Snack Foods  155.0340            OUT017   \n",
      "4                     Dairy  234.2300            OUT027   \n",
      "5     Fruits and Vegetables  117.1492            OUT046   \n",
      "6              Baking Goods   50.1034            OUT018   \n",
      "7              Baking Goods   81.0592            OUT027   \n",
      "8               Snack Foods   95.7436            OUT045   \n",
      "9              Baking Goods  186.8924            OUT017   \n",
      "10    Fruits and Vegetables  118.3466            OUT017   \n",
      "11    Fruits and Vegetables   85.3908            OUT045   \n",
      "12       Health and Hygiene  240.4196            OUT019   \n",
      "13                   Breads  122.3098            OUT049   \n",
      "14              Hard Drinks   52.0298            OUT013   \n",
      "15             Baking Goods  151.6366            OUT049   \n",
      "16                  Seafood  198.7768            OUT045   \n",
      "17              Soft Drinks  192.2188            OUT018   \n",
      "18                Household  109.6912            OUT027   \n",
      "19              Snack Foods  193.7136            OUT010   \n",
      "20    Fruits and Vegetables  175.0080            OUT013   \n",
      "21                   Others  239.9196            OUT035   \n",
      "22             Frozen Foods   47.7402            OUT046   \n",
      "23                   Others  142.3470            OUT019   \n",
      "24              Snack Foods  180.7318            OUT035   \n",
      "25              Snack Foods  209.4928            OUT010   \n",
      "26                Household   47.6034            OUT035   \n",
      "27                Household  161.3894            OUT046   \n",
      "28                    Dairy  244.6802            OUT046   \n",
      "29    Fruits and Vegetables  116.5492            OUT035   \n",
      "...                     ...       ...               ...   \n",
      "5651          Starchy Foods  186.1898            OUT013   \n",
      "5652  Fruits and Vegetables  126.7678            OUT045   \n",
      "5653  Fruits and Vegetables   80.2960            OUT035   \n",
      "5654            Snack Foods  144.5760            OUT013   \n",
      "5655  Fruits and Vegetables  143.6786            OUT027   \n",
      "5656                  Dairy  207.8296            OUT027   \n",
      "5657  Fruits and Vegetables  261.3278            OUT046   \n",
      "5658            Snack Foods  123.4704            OUT013   \n",
      "5659            Soft Drinks  188.8530            OUT049   \n",
      "5660            Snack Foods  215.3850            OUT013   \n",
      "5661            Soft Drinks  155.7972            OUT027   \n",
      "5662            Snack Foods  214.3850            OUT017   \n",
      "5663            Soft Drinks   72.8696            OUT018   \n",
      "5664            Soft Drinks  173.4054            OUT018   \n",
      "5665                  Dairy   46.0718            OUT027   \n",
      "5666            Snack Foods  196.9084            OUT046   \n",
      "5667            Snack Foods   82.1250            OUT046   \n",
      "5668  Fruits and Vegetables  115.1518            OUT010   \n",
      "5669  Fruits and Vegetables  188.0530            OUT027   \n",
      "5670                   Meat  229.4352            OUT017   \n",
      "5671                 Canned   59.5904            OUT049   \n",
      "5672              Household  231.1010            OUT049   \n",
      "5673            Snack Foods  116.0834            OUT018   \n",
      "5674            Hard Drinks   43.2770            OUT046   \n",
      "5675            Snack Foods   63.4484            OUT049   \n",
      "5676            Snack Foods  141.3154            OUT046   \n",
      "5677          Starchy Foods  169.1448            OUT018   \n",
      "5678     Health and Hygiene  118.7440            OUT045   \n",
      "5679                 Canned  214.6218            OUT017   \n",
      "5680                 Canned   79.7960            OUT045   \n",
      "\n",
      "      Outlet_Establishment_Year Outlet_Size Outlet_Location_Type  \\\n",
      "0                          1999      Medium               Tier 1   \n",
      "1                          2007         NaN               Tier 2   \n",
      "2                          1998         NaN               Tier 3   \n",
      "3                          2007         NaN               Tier 2   \n",
      "4                          1985      Medium               Tier 3   \n",
      "5                          1997       Small               Tier 1   \n",
      "6                          2009      Medium               Tier 3   \n",
      "7                          1985      Medium               Tier 3   \n",
      "8                          2002         NaN               Tier 2   \n",
      "9                          2007         NaN               Tier 2   \n",
      "10                         2007         NaN               Tier 2   \n",
      "11                         2002         NaN               Tier 2   \n",
      "12                         1985       Small               Tier 1   \n",
      "13                         1999      Medium               Tier 1   \n",
      "14                         1987        High               Tier 3   \n",
      "15                         1999      Medium               Tier 1   \n",
      "16                         2002         NaN               Tier 2   \n",
      "17                         2009      Medium               Tier 3   \n",
      "18                         1985      Medium               Tier 3   \n",
      "19                         1998         NaN               Tier 3   \n",
      "20                         1987        High               Tier 3   \n",
      "21                         2004       Small               Tier 2   \n",
      "22                         1997       Small               Tier 1   \n",
      "23                         1985       Small               Tier 1   \n",
      "24                         2004       Small               Tier 2   \n",
      "25                         1998         NaN               Tier 3   \n",
      "26                         2004       Small               Tier 2   \n",
      "27                         1997       Small               Tier 1   \n",
      "28                         1997       Small               Tier 1   \n",
      "29                         2004       Small               Tier 2   \n",
      "...                         ...         ...                  ...   \n",
      "5651                       1987        High               Tier 3   \n",
      "5652                       2002         NaN               Tier 2   \n",
      "5653                       2004       Small               Tier 2   \n",
      "5654                       1987        High               Tier 3   \n",
      "5655                       1985      Medium               Tier 3   \n",
      "5656                       1985      Medium               Tier 3   \n",
      "5657                       1997       Small               Tier 1   \n",
      "5658                       1987        High               Tier 3   \n",
      "5659                       1999      Medium               Tier 1   \n",
      "5660                       1987        High               Tier 3   \n",
      "5661                       1985      Medium               Tier 3   \n",
      "5662                       2007         NaN               Tier 2   \n",
      "5663                       2009      Medium               Tier 3   \n",
      "5664                       2009      Medium               Tier 3   \n",
      "5665                       1985      Medium               Tier 3   \n",
      "5666                       1997       Small               Tier 1   \n",
      "5667                       1997       Small               Tier 1   \n",
      "5668                       1998         NaN               Tier 3   \n",
      "5669                       1985      Medium               Tier 3   \n",
      "5670                       2007         NaN               Tier 2   \n",
      "5671                       1999      Medium               Tier 1   \n",
      "5672                       1999      Medium               Tier 1   \n",
      "5673                       2009      Medium               Tier 3   \n",
      "5674                       1997       Small               Tier 1   \n",
      "5675                       1999      Medium               Tier 1   \n",
      "5676                       1997       Small               Tier 1   \n",
      "5677                       2009      Medium               Tier 3   \n",
      "5678                       2002         NaN               Tier 2   \n",
      "5679                       2007         NaN               Tier 2   \n",
      "5680                       2002         NaN               Tier 2   \n",
      "\n",
      "            Outlet_Type  \n",
      "0     Supermarket Type1  \n",
      "1     Supermarket Type1  \n",
      "2         Grocery Store  \n",
      "3     Supermarket Type1  \n",
      "4     Supermarket Type3  \n",
      "5     Supermarket Type1  \n",
      "6     Supermarket Type2  \n",
      "7     Supermarket Type3  \n",
      "8     Supermarket Type1  \n",
      "9     Supermarket Type1  \n",
      "10    Supermarket Type1  \n",
      "11    Supermarket Type1  \n",
      "12        Grocery Store  \n",
      "13    Supermarket Type1  \n",
      "14    Supermarket Type1  \n",
      "15    Supermarket Type1  \n",
      "16    Supermarket Type1  \n",
      "17    Supermarket Type2  \n",
      "18    Supermarket Type3  \n",
      "19        Grocery Store  \n",
      "20    Supermarket Type1  \n",
      "21    Supermarket Type1  \n",
      "22    Supermarket Type1  \n",
      "23        Grocery Store  \n",
      "24    Supermarket Type1  \n",
      "25        Grocery Store  \n",
      "26    Supermarket Type1  \n",
      "27    Supermarket Type1  \n",
      "28    Supermarket Type1  \n",
      "29    Supermarket Type1  \n",
      "...                 ...  \n",
      "5651  Supermarket Type1  \n",
      "5652  Supermarket Type1  \n",
      "5653  Supermarket Type1  \n",
      "5654  Supermarket Type1  \n",
      "5655  Supermarket Type3  \n",
      "5656  Supermarket Type3  \n",
      "5657  Supermarket Type1  \n",
      "5658  Supermarket Type1  \n",
      "5659  Supermarket Type1  \n",
      "5660  Supermarket Type1  \n",
      "5661  Supermarket Type3  \n",
      "5662  Supermarket Type1  \n",
      "5663  Supermarket Type2  \n",
      "5664  Supermarket Type2  \n",
      "5665  Supermarket Type3  \n",
      "5666  Supermarket Type1  \n",
      "5667  Supermarket Type1  \n",
      "5668      Grocery Store  \n",
      "5669  Supermarket Type3  \n",
      "5670  Supermarket Type1  \n",
      "5671  Supermarket Type1  \n",
      "5672  Supermarket Type1  \n",
      "5673  Supermarket Type2  \n",
      "5674  Supermarket Type1  \n",
      "5675  Supermarket Type1  \n",
      "5676  Supermarket Type1  \n",
      "5677  Supermarket Type2  \n",
      "5678  Supermarket Type1  \n",
      "5679  Supermarket Type1  \n",
      "5680  Supermarket Type1  \n",
      "\n",
      "[5681 rows x 11 columns]\n"
     ]
    }
   ],
   "source": [
    "train =pd.read_csv(\"train.csv\")\n",
    "test =pd.read_csv(\"test.csv\")\n",
    "print(train)\n",
    "print(test)"
   ]
  },
  {
   "cell_type": "code",
   "execution_count": 36,
   "metadata": {},
   "outputs": [
    {
     "data": {
      "text/html": [
       "<div>\n",
       "<style scoped>\n",
       "    .dataframe tbody tr th:only-of-type {\n",
       "        vertical-align: middle;\n",
       "    }\n",
       "\n",
       "    .dataframe tbody tr th {\n",
       "        vertical-align: top;\n",
       "    }\n",
       "\n",
       "    .dataframe thead th {\n",
       "        text-align: right;\n",
       "    }\n",
       "</style>\n",
       "<table border=\"1\" class=\"dataframe\">\n",
       "  <thead>\n",
       "    <tr style=\"text-align: right;\">\n",
       "      <th></th>\n",
       "      <th>Item_Identifier</th>\n",
       "      <th>Item_Weight</th>\n",
       "      <th>Item_Fat_Content</th>\n",
       "      <th>Item_Visibility</th>\n",
       "      <th>Item_Type</th>\n",
       "      <th>Item_MRP</th>\n",
       "      <th>Outlet_Identifier</th>\n",
       "      <th>Outlet_Establishment_Year</th>\n",
       "      <th>Outlet_Size</th>\n",
       "      <th>Outlet_Location_Type</th>\n",
       "      <th>Outlet_Type</th>\n",
       "      <th>Item_Outlet_Sales</th>\n",
       "    </tr>\n",
       "  </thead>\n",
       "  <tbody>\n",
       "    <tr>\n",
       "      <th>0</th>\n",
       "      <td>FDA15</td>\n",
       "      <td>9.30</td>\n",
       "      <td>Low Fat</td>\n",
       "      <td>0.016047</td>\n",
       "      <td>Dairy</td>\n",
       "      <td>249.8092</td>\n",
       "      <td>OUT049</td>\n",
       "      <td>1999</td>\n",
       "      <td>Medium</td>\n",
       "      <td>Tier 1</td>\n",
       "      <td>Supermarket Type1</td>\n",
       "      <td>3735.1380</td>\n",
       "    </tr>\n",
       "    <tr>\n",
       "      <th>1</th>\n",
       "      <td>DRC01</td>\n",
       "      <td>5.92</td>\n",
       "      <td>Regular</td>\n",
       "      <td>0.019278</td>\n",
       "      <td>Soft Drinks</td>\n",
       "      <td>48.2692</td>\n",
       "      <td>OUT018</td>\n",
       "      <td>2009</td>\n",
       "      <td>Medium</td>\n",
       "      <td>Tier 3</td>\n",
       "      <td>Supermarket Type2</td>\n",
       "      <td>443.4228</td>\n",
       "    </tr>\n",
       "    <tr>\n",
       "      <th>2</th>\n",
       "      <td>FDN15</td>\n",
       "      <td>17.50</td>\n",
       "      <td>Low Fat</td>\n",
       "      <td>0.016760</td>\n",
       "      <td>Meat</td>\n",
       "      <td>141.6180</td>\n",
       "      <td>OUT049</td>\n",
       "      <td>1999</td>\n",
       "      <td>Medium</td>\n",
       "      <td>Tier 1</td>\n",
       "      <td>Supermarket Type1</td>\n",
       "      <td>2097.2700</td>\n",
       "    </tr>\n",
       "    <tr>\n",
       "      <th>3</th>\n",
       "      <td>FDX07</td>\n",
       "      <td>19.20</td>\n",
       "      <td>Regular</td>\n",
       "      <td>0.000000</td>\n",
       "      <td>Fruits and Vegetables</td>\n",
       "      <td>182.0950</td>\n",
       "      <td>OUT010</td>\n",
       "      <td>1998</td>\n",
       "      <td>NaN</td>\n",
       "      <td>Tier 3</td>\n",
       "      <td>Grocery Store</td>\n",
       "      <td>732.3800</td>\n",
       "    </tr>\n",
       "    <tr>\n",
       "      <th>4</th>\n",
       "      <td>NCD19</td>\n",
       "      <td>8.93</td>\n",
       "      <td>Low Fat</td>\n",
       "      <td>0.000000</td>\n",
       "      <td>Household</td>\n",
       "      <td>53.8614</td>\n",
       "      <td>OUT013</td>\n",
       "      <td>1987</td>\n",
       "      <td>High</td>\n",
       "      <td>Tier 3</td>\n",
       "      <td>Supermarket Type1</td>\n",
       "      <td>994.7052</td>\n",
       "    </tr>\n",
       "  </tbody>\n",
       "</table>\n",
       "</div>"
      ],
      "text/plain": [
       "  Item_Identifier  Item_Weight Item_Fat_Content  Item_Visibility  \\\n",
       "0           FDA15         9.30          Low Fat         0.016047   \n",
       "1           DRC01         5.92          Regular         0.019278   \n",
       "2           FDN15        17.50          Low Fat         0.016760   \n",
       "3           FDX07        19.20          Regular         0.000000   \n",
       "4           NCD19         8.93          Low Fat         0.000000   \n",
       "\n",
       "               Item_Type  Item_MRP Outlet_Identifier  \\\n",
       "0                  Dairy  249.8092            OUT049   \n",
       "1            Soft Drinks   48.2692            OUT018   \n",
       "2                   Meat  141.6180            OUT049   \n",
       "3  Fruits and Vegetables  182.0950            OUT010   \n",
       "4              Household   53.8614            OUT013   \n",
       "\n",
       "   Outlet_Establishment_Year Outlet_Size Outlet_Location_Type  \\\n",
       "0                       1999      Medium               Tier 1   \n",
       "1                       2009      Medium               Tier 3   \n",
       "2                       1999      Medium               Tier 1   \n",
       "3                       1998         NaN               Tier 3   \n",
       "4                       1987        High               Tier 3   \n",
       "\n",
       "         Outlet_Type  Item_Outlet_Sales  \n",
       "0  Supermarket Type1          3735.1380  \n",
       "1  Supermarket Type2           443.4228  \n",
       "2  Supermarket Type1          2097.2700  \n",
       "3      Grocery Store           732.3800  \n",
       "4  Supermarket Type1           994.7052  "
      ]
     },
     "execution_count": 36,
     "metadata": {},
     "output_type": "execute_result"
    }
   ],
   "source": [
    "train.head(5)"
   ]
  },
  {
   "cell_type": "code",
   "execution_count": 37,
   "metadata": {},
   "outputs": [
    {
     "name": "stdout",
     "output_type": "stream",
     "text": [
      "<class 'pandas.core.frame.DataFrame'>\n",
      "RangeIndex: 8523 entries, 0 to 8522\n",
      "Data columns (total 12 columns):\n",
      "Item_Identifier              8523 non-null object\n",
      "Item_Weight                  7060 non-null float64\n",
      "Item_Fat_Content             8523 non-null object\n",
      "Item_Visibility              8523 non-null float64\n",
      "Item_Type                    8523 non-null object\n",
      "Item_MRP                     8523 non-null float64\n",
      "Outlet_Identifier            8523 non-null object\n",
      "Outlet_Establishment_Year    8523 non-null int64\n",
      "Outlet_Size                  6113 non-null object\n",
      "Outlet_Location_Type         8523 non-null object\n",
      "Outlet_Type                  8523 non-null object\n",
      "Item_Outlet_Sales            8523 non-null float64\n",
      "dtypes: float64(4), int64(1), object(7)\n",
      "memory usage: 566.0+ KB\n"
     ]
    }
   ],
   "source": [
    "train.info()"
   ]
  },
  {
   "cell_type": "code",
   "execution_count": 38,
   "metadata": {},
   "outputs": [
    {
     "name": "stdout",
     "output_type": "stream",
     "text": [
      "<class 'pandas.core.frame.DataFrame'>\n",
      "RangeIndex: 5681 entries, 0 to 5680\n",
      "Data columns (total 11 columns):\n",
      "Item_Identifier              5681 non-null object\n",
      "Item_Weight                  4705 non-null float64\n",
      "Item_Fat_Content             5681 non-null object\n",
      "Item_Visibility              5681 non-null float64\n",
      "Item_Type                    5681 non-null object\n",
      "Item_MRP                     5681 non-null float64\n",
      "Outlet_Identifier            5681 non-null object\n",
      "Outlet_Establishment_Year    5681 non-null int64\n",
      "Outlet_Size                  4075 non-null object\n",
      "Outlet_Location_Type         5681 non-null object\n",
      "Outlet_Type                  5681 non-null object\n",
      "dtypes: float64(3), int64(1), object(7)\n",
      "memory usage: 332.9+ KB\n"
     ]
    }
   ],
   "source": [
    "test.info()"
   ]
  },
  {
   "cell_type": "code",
   "execution_count": 39,
   "metadata": {},
   "outputs": [
    {
     "data": {
      "text/html": [
       "<div>\n",
       "<style scoped>\n",
       "    .dataframe tbody tr th:only-of-type {\n",
       "        vertical-align: middle;\n",
       "    }\n",
       "\n",
       "    .dataframe tbody tr th {\n",
       "        vertical-align: top;\n",
       "    }\n",
       "\n",
       "    .dataframe thead th {\n",
       "        text-align: right;\n",
       "    }\n",
       "</style>\n",
       "<table border=\"1\" class=\"dataframe\">\n",
       "  <thead>\n",
       "    <tr style=\"text-align: right;\">\n",
       "      <th></th>\n",
       "      <th>Item_Identifier</th>\n",
       "      <th>Item_Weight</th>\n",
       "      <th>Item_Fat_Content</th>\n",
       "      <th>Item_Visibility</th>\n",
       "      <th>Item_Type</th>\n",
       "      <th>Item_MRP</th>\n",
       "      <th>Outlet_Identifier</th>\n",
       "      <th>Outlet_Establishment_Year</th>\n",
       "      <th>Outlet_Size</th>\n",
       "      <th>Outlet_Location_Type</th>\n",
       "      <th>Outlet_Type</th>\n",
       "      <th>Item_Outlet_Sales</th>\n",
       "    </tr>\n",
       "  </thead>\n",
       "  <tbody>\n",
       "    <tr>\n",
       "      <th>count</th>\n",
       "      <td>8523</td>\n",
       "      <td>7060.000000</td>\n",
       "      <td>8523</td>\n",
       "      <td>8523.000000</td>\n",
       "      <td>8523</td>\n",
       "      <td>8523.000000</td>\n",
       "      <td>8523</td>\n",
       "      <td>8523.000000</td>\n",
       "      <td>6113</td>\n",
       "      <td>8523</td>\n",
       "      <td>8523</td>\n",
       "      <td>8523.000000</td>\n",
       "    </tr>\n",
       "    <tr>\n",
       "      <th>unique</th>\n",
       "      <td>1559</td>\n",
       "      <td>NaN</td>\n",
       "      <td>5</td>\n",
       "      <td>NaN</td>\n",
       "      <td>16</td>\n",
       "      <td>NaN</td>\n",
       "      <td>10</td>\n",
       "      <td>NaN</td>\n",
       "      <td>3</td>\n",
       "      <td>3</td>\n",
       "      <td>4</td>\n",
       "      <td>NaN</td>\n",
       "    </tr>\n",
       "    <tr>\n",
       "      <th>top</th>\n",
       "      <td>FDW13</td>\n",
       "      <td>NaN</td>\n",
       "      <td>Low Fat</td>\n",
       "      <td>NaN</td>\n",
       "      <td>Fruits and Vegetables</td>\n",
       "      <td>NaN</td>\n",
       "      <td>OUT027</td>\n",
       "      <td>NaN</td>\n",
       "      <td>Medium</td>\n",
       "      <td>Tier 3</td>\n",
       "      <td>Supermarket Type1</td>\n",
       "      <td>NaN</td>\n",
       "    </tr>\n",
       "    <tr>\n",
       "      <th>freq</th>\n",
       "      <td>10</td>\n",
       "      <td>NaN</td>\n",
       "      <td>5089</td>\n",
       "      <td>NaN</td>\n",
       "      <td>1232</td>\n",
       "      <td>NaN</td>\n",
       "      <td>935</td>\n",
       "      <td>NaN</td>\n",
       "      <td>2793</td>\n",
       "      <td>3350</td>\n",
       "      <td>5577</td>\n",
       "      <td>NaN</td>\n",
       "    </tr>\n",
       "    <tr>\n",
       "      <th>mean</th>\n",
       "      <td>NaN</td>\n",
       "      <td>12.857645</td>\n",
       "      <td>NaN</td>\n",
       "      <td>0.066132</td>\n",
       "      <td>NaN</td>\n",
       "      <td>140.992782</td>\n",
       "      <td>NaN</td>\n",
       "      <td>1997.831867</td>\n",
       "      <td>NaN</td>\n",
       "      <td>NaN</td>\n",
       "      <td>NaN</td>\n",
       "      <td>2181.288914</td>\n",
       "    </tr>\n",
       "    <tr>\n",
       "      <th>std</th>\n",
       "      <td>NaN</td>\n",
       "      <td>4.643456</td>\n",
       "      <td>NaN</td>\n",
       "      <td>0.051598</td>\n",
       "      <td>NaN</td>\n",
       "      <td>62.275067</td>\n",
       "      <td>NaN</td>\n",
       "      <td>8.371760</td>\n",
       "      <td>NaN</td>\n",
       "      <td>NaN</td>\n",
       "      <td>NaN</td>\n",
       "      <td>1706.499616</td>\n",
       "    </tr>\n",
       "    <tr>\n",
       "      <th>min</th>\n",
       "      <td>NaN</td>\n",
       "      <td>4.555000</td>\n",
       "      <td>NaN</td>\n",
       "      <td>0.000000</td>\n",
       "      <td>NaN</td>\n",
       "      <td>31.290000</td>\n",
       "      <td>NaN</td>\n",
       "      <td>1985.000000</td>\n",
       "      <td>NaN</td>\n",
       "      <td>NaN</td>\n",
       "      <td>NaN</td>\n",
       "      <td>33.290000</td>\n",
       "    </tr>\n",
       "    <tr>\n",
       "      <th>25%</th>\n",
       "      <td>NaN</td>\n",
       "      <td>8.773750</td>\n",
       "      <td>NaN</td>\n",
       "      <td>0.026989</td>\n",
       "      <td>NaN</td>\n",
       "      <td>93.826500</td>\n",
       "      <td>NaN</td>\n",
       "      <td>1987.000000</td>\n",
       "      <td>NaN</td>\n",
       "      <td>NaN</td>\n",
       "      <td>NaN</td>\n",
       "      <td>834.247400</td>\n",
       "    </tr>\n",
       "    <tr>\n",
       "      <th>50%</th>\n",
       "      <td>NaN</td>\n",
       "      <td>12.600000</td>\n",
       "      <td>NaN</td>\n",
       "      <td>0.053931</td>\n",
       "      <td>NaN</td>\n",
       "      <td>143.012800</td>\n",
       "      <td>NaN</td>\n",
       "      <td>1999.000000</td>\n",
       "      <td>NaN</td>\n",
       "      <td>NaN</td>\n",
       "      <td>NaN</td>\n",
       "      <td>1794.331000</td>\n",
       "    </tr>\n",
       "    <tr>\n",
       "      <th>75%</th>\n",
       "      <td>NaN</td>\n",
       "      <td>16.850000</td>\n",
       "      <td>NaN</td>\n",
       "      <td>0.094585</td>\n",
       "      <td>NaN</td>\n",
       "      <td>185.643700</td>\n",
       "      <td>NaN</td>\n",
       "      <td>2004.000000</td>\n",
       "      <td>NaN</td>\n",
       "      <td>NaN</td>\n",
       "      <td>NaN</td>\n",
       "      <td>3101.296400</td>\n",
       "    </tr>\n",
       "    <tr>\n",
       "      <th>max</th>\n",
       "      <td>NaN</td>\n",
       "      <td>21.350000</td>\n",
       "      <td>NaN</td>\n",
       "      <td>0.328391</td>\n",
       "      <td>NaN</td>\n",
       "      <td>266.888400</td>\n",
       "      <td>NaN</td>\n",
       "      <td>2009.000000</td>\n",
       "      <td>NaN</td>\n",
       "      <td>NaN</td>\n",
       "      <td>NaN</td>\n",
       "      <td>13086.964800</td>\n",
       "    </tr>\n",
       "  </tbody>\n",
       "</table>\n",
       "</div>"
      ],
      "text/plain": [
       "       Item_Identifier  Item_Weight Item_Fat_Content  Item_Visibility  \\\n",
       "count             8523  7060.000000             8523      8523.000000   \n",
       "unique            1559          NaN                5              NaN   \n",
       "top              FDW13          NaN          Low Fat              NaN   \n",
       "freq                10          NaN             5089              NaN   \n",
       "mean               NaN    12.857645              NaN         0.066132   \n",
       "std                NaN     4.643456              NaN         0.051598   \n",
       "min                NaN     4.555000              NaN         0.000000   \n",
       "25%                NaN     8.773750              NaN         0.026989   \n",
       "50%                NaN    12.600000              NaN         0.053931   \n",
       "75%                NaN    16.850000              NaN         0.094585   \n",
       "max                NaN    21.350000              NaN         0.328391   \n",
       "\n",
       "                    Item_Type     Item_MRP Outlet_Identifier  \\\n",
       "count                    8523  8523.000000              8523   \n",
       "unique                     16          NaN                10   \n",
       "top     Fruits and Vegetables          NaN            OUT027   \n",
       "freq                     1232          NaN               935   \n",
       "mean                      NaN   140.992782               NaN   \n",
       "std                       NaN    62.275067               NaN   \n",
       "min                       NaN    31.290000               NaN   \n",
       "25%                       NaN    93.826500               NaN   \n",
       "50%                       NaN   143.012800               NaN   \n",
       "75%                       NaN   185.643700               NaN   \n",
       "max                       NaN   266.888400               NaN   \n",
       "\n",
       "        Outlet_Establishment_Year Outlet_Size Outlet_Location_Type  \\\n",
       "count                 8523.000000        6113                 8523   \n",
       "unique                        NaN           3                    3   \n",
       "top                           NaN      Medium               Tier 3   \n",
       "freq                          NaN        2793                 3350   \n",
       "mean                  1997.831867         NaN                  NaN   \n",
       "std                      8.371760         NaN                  NaN   \n",
       "min                   1985.000000         NaN                  NaN   \n",
       "25%                   1987.000000         NaN                  NaN   \n",
       "50%                   1999.000000         NaN                  NaN   \n",
       "75%                   2004.000000         NaN                  NaN   \n",
       "max                   2009.000000         NaN                  NaN   \n",
       "\n",
       "              Outlet_Type  Item_Outlet_Sales  \n",
       "count                8523        8523.000000  \n",
       "unique                  4                NaN  \n",
       "top     Supermarket Type1                NaN  \n",
       "freq                 5577                NaN  \n",
       "mean                  NaN        2181.288914  \n",
       "std                   NaN        1706.499616  \n",
       "min                   NaN          33.290000  \n",
       "25%                   NaN         834.247400  \n",
       "50%                   NaN        1794.331000  \n",
       "75%                   NaN        3101.296400  \n",
       "max                   NaN       13086.964800  "
      ]
     },
     "execution_count": 39,
     "metadata": {},
     "output_type": "execute_result"
    }
   ],
   "source": [
    "train.describe(include = 'all')"
   ]
  },
  {
   "cell_type": "code",
   "execution_count": 40,
   "metadata": {},
   "outputs": [
    {
     "data": {
      "text/plain": [
       "count    8523.000000\n",
       "mean     1997.831867\n",
       "std         8.371760\n",
       "min      1985.000000\n",
       "25%      1987.000000\n",
       "50%      1999.000000\n",
       "75%      2004.000000\n",
       "max      2009.000000\n",
       "Name: Outlet_Establishment_Year, dtype: float64"
      ]
     },
     "execution_count": 40,
     "metadata": {},
     "output_type": "execute_result"
    }
   ],
   "source": [
    "train.Outlet_Establishment_Year.describe()"
   ]
  },
  {
   "cell_type": "code",
   "execution_count": 41,
   "metadata": {},
   "outputs": [
    {
     "data": {
      "text/plain": [
       "count                  8523\n",
       "unique                    4\n",
       "top       Supermarket Type1\n",
       "freq                   5577\n",
       "Name: Outlet_Type, dtype: object"
      ]
     },
     "execution_count": 41,
     "metadata": {},
     "output_type": "execute_result"
    }
   ],
   "source": [
    "train.Outlet_Type.describe()"
   ]
  },
  {
   "cell_type": "code",
   "execution_count": 46,
   "metadata": {},
   "outputs": [
    {
     "data": {
      "text/plain": [
       "Item_Identifier                 0\n",
       "Item_Weight                  1463\n",
       "Item_Fat_Content                0\n",
       "Item_Visibility                 0\n",
       "Item_Type                       0\n",
       "Item_MRP                        0\n",
       "Outlet_Identifier               0\n",
       "Outlet_Establishment_Year       0\n",
       "Outlet_Size                  2410\n",
       "Outlet_Location_Type            0\n",
       "Outlet_Type                     0\n",
       "Item_Outlet_Sales               0\n",
       "dtype: int64"
      ]
     },
     "execution_count": 46,
     "metadata": {},
     "output_type": "execute_result"
    }
   ],
   "source": [
    "#missing values in sum\n",
    "train.isnull().sum()\n"
   ]
  },
  {
   "cell_type": "code",
   "execution_count": 48,
   "metadata": {},
   "outputs": [
    {
     "data": {
      "text/plain": [
       "Supermarket Type1    65.434706\n",
       "Grocery Store        12.706793\n",
       "Supermarket Type3    10.970316\n",
       "Supermarket Type2    10.888185\n",
       "Name: Outlet_Type, dtype: float64"
      ]
     },
     "execution_count": 48,
     "metadata": {},
     "output_type": "execute_result"
    }
   ],
   "source": [
    "#percentages of various outlet_type\n",
    "train.Outlet_Type.value_counts(normalize=True)*100\n"
   ]
  },
  {
   "cell_type": "code",
   "execution_count": 52,
   "metadata": {},
   "outputs": [
    {
     "data": {
      "text/html": [
       "<div>\n",
       "<style scoped>\n",
       "    .dataframe tbody tr th:only-of-type {\n",
       "        vertical-align: middle;\n",
       "    }\n",
       "\n",
       "    .dataframe tbody tr th {\n",
       "        vertical-align: top;\n",
       "    }\n",
       "\n",
       "    .dataframe thead th {\n",
       "        text-align: right;\n",
       "    }\n",
       "</style>\n",
       "<table border=\"1\" class=\"dataframe\">\n",
       "  <thead>\n",
       "    <tr style=\"text-align: right;\">\n",
       "      <th></th>\n",
       "      <th>Item_Identifier</th>\n",
       "      <th>Item_Weight</th>\n",
       "      <th>Item_Fat_Content</th>\n",
       "      <th>Item_Visibility</th>\n",
       "      <th>Item_Type</th>\n",
       "      <th>Item_MRP</th>\n",
       "      <th>Outlet_Identifier</th>\n",
       "      <th>Outlet_Establishment_Year</th>\n",
       "      <th>Outlet_Size</th>\n",
       "      <th>Outlet_Location_Type</th>\n",
       "      <th>Outlet_Type</th>\n",
       "      <th>Item_outlet_Sales</th>\n",
       "    </tr>\n",
       "  </thead>\n",
       "  <tbody>\n",
       "    <tr>\n",
       "      <th>0</th>\n",
       "      <td>FDW58</td>\n",
       "      <td>20.750</td>\n",
       "      <td>Low Fat</td>\n",
       "      <td>0.007565</td>\n",
       "      <td>Snack Foods</td>\n",
       "      <td>107.8622</td>\n",
       "      <td>OUT049</td>\n",
       "      <td>1999</td>\n",
       "      <td>Medium</td>\n",
       "      <td>Tier 1</td>\n",
       "      <td>Supermarket Type1</td>\n",
       "      <td>NaN</td>\n",
       "    </tr>\n",
       "    <tr>\n",
       "      <th>1</th>\n",
       "      <td>FDW14</td>\n",
       "      <td>8.300</td>\n",
       "      <td>reg</td>\n",
       "      <td>0.038428</td>\n",
       "      <td>Dairy</td>\n",
       "      <td>87.3198</td>\n",
       "      <td>OUT017</td>\n",
       "      <td>2007</td>\n",
       "      <td>NaN</td>\n",
       "      <td>Tier 2</td>\n",
       "      <td>Supermarket Type1</td>\n",
       "      <td>NaN</td>\n",
       "    </tr>\n",
       "    <tr>\n",
       "      <th>2</th>\n",
       "      <td>NCN55</td>\n",
       "      <td>14.600</td>\n",
       "      <td>Low Fat</td>\n",
       "      <td>0.099575</td>\n",
       "      <td>Others</td>\n",
       "      <td>241.7538</td>\n",
       "      <td>OUT010</td>\n",
       "      <td>1998</td>\n",
       "      <td>NaN</td>\n",
       "      <td>Tier 3</td>\n",
       "      <td>Grocery Store</td>\n",
       "      <td>NaN</td>\n",
       "    </tr>\n",
       "    <tr>\n",
       "      <th>3</th>\n",
       "      <td>FDQ58</td>\n",
       "      <td>7.315</td>\n",
       "      <td>Low Fat</td>\n",
       "      <td>0.015388</td>\n",
       "      <td>Snack Foods</td>\n",
       "      <td>155.0340</td>\n",
       "      <td>OUT017</td>\n",
       "      <td>2007</td>\n",
       "      <td>NaN</td>\n",
       "      <td>Tier 2</td>\n",
       "      <td>Supermarket Type1</td>\n",
       "      <td>NaN</td>\n",
       "    </tr>\n",
       "    <tr>\n",
       "      <th>4</th>\n",
       "      <td>FDY38</td>\n",
       "      <td>NaN</td>\n",
       "      <td>Regular</td>\n",
       "      <td>0.118599</td>\n",
       "      <td>Dairy</td>\n",
       "      <td>234.2300</td>\n",
       "      <td>OUT027</td>\n",
       "      <td>1985</td>\n",
       "      <td>Medium</td>\n",
       "      <td>Tier 3</td>\n",
       "      <td>Supermarket Type3</td>\n",
       "      <td>NaN</td>\n",
       "    </tr>\n",
       "  </tbody>\n",
       "</table>\n",
       "</div>"
      ],
      "text/plain": [
       "  Item_Identifier  Item_Weight Item_Fat_Content  Item_Visibility    Item_Type  \\\n",
       "0           FDW58       20.750          Low Fat         0.007565  Snack Foods   \n",
       "1           FDW14        8.300              reg         0.038428        Dairy   \n",
       "2           NCN55       14.600          Low Fat         0.099575       Others   \n",
       "3           FDQ58        7.315          Low Fat         0.015388  Snack Foods   \n",
       "4           FDY38          NaN          Regular         0.118599        Dairy   \n",
       "\n",
       "   Item_MRP Outlet_Identifier  Outlet_Establishment_Year Outlet_Size  \\\n",
       "0  107.8622            OUT049                       1999      Medium   \n",
       "1   87.3198            OUT017                       2007         NaN   \n",
       "2  241.7538            OUT010                       1998         NaN   \n",
       "3  155.0340            OUT017                       2007         NaN   \n",
       "4  234.2300            OUT027                       1985      Medium   \n",
       "\n",
       "  Outlet_Location_Type        Outlet_Type  Item_outlet_Sales  \n",
       "0               Tier 1  Supermarket Type1                NaN  \n",
       "1               Tier 2  Supermarket Type1                NaN  \n",
       "2               Tier 3      Grocery Store                NaN  \n",
       "3               Tier 2  Supermarket Type1                NaN  \n",
       "4               Tier 3  Supermarket Type3                NaN  "
      ]
     },
     "execution_count": 52,
     "metadata": {},
     "output_type": "execute_result"
    }
   ],
   "source": [
    "#appending training and testingg datasets\n",
    "#we can't append datasets unless they have the same numbers of column\n",
    "#we will add another column in test dataset (Item_outlet_Sales) (the dependent variable)\n",
    "test['Item_outlet_Sales'] = np.nan\n",
    "test.head()"
   ]
  },
  {
   "cell_type": "code",
   "execution_count": 53,
   "metadata": {},
   "outputs": [
    {
     "name": "stderr",
     "output_type": "stream",
     "text": [
      "c:\\python\\lib\\site-packages\\pandas\\core\\frame.py:6201: FutureWarning: Sorting because non-concatenation axis is not aligned. A future version\n",
      "of pandas will change to not sort by default.\n",
      "\n",
      "To accept the future behavior, pass 'sort=True'.\n",
      "\n",
      "To retain the current behavior and silence the warning, pass sort=False\n",
      "\n",
      "  sort=sort)\n"
     ]
    },
    {
     "data": {
      "text/plain": [
       "(14204, 13)"
      ]
     },
     "execution_count": 53,
     "metadata": {},
     "output_type": "execute_result"
    }
   ],
   "source": [
    "#now we will append all data set and name it data\n",
    "combined =train.append(test)\n",
    "combined.shape"
   ]
  },
  {
   "cell_type": "code",
   "execution_count": 54,
   "metadata": {},
   "outputs": [
    {
     "data": {
      "text/plain": [
       "Item_Fat_Content                 0\n",
       "Item_Identifier                  0\n",
       "Item_MRP                         0\n",
       "Item_Outlet_Sales             5681\n",
       "Item_Type                        0\n",
       "Item_Visibility                  0\n",
       "Item_Weight                   2439\n",
       "Item_outlet_Sales            14204\n",
       "Outlet_Establishment_Year        0\n",
       "Outlet_Identifier                0\n",
       "Outlet_Location_Type             0\n",
       "Outlet_Size                   4016\n",
       "Outlet_Type                      0\n",
       "dtype: int64"
      ]
     },
     "execution_count": 54,
     "metadata": {},
     "output_type": "execute_result"
    }
   ],
   "source": [
    "#check this missing value of data\n",
    "#is.null() return a logical vector whch indicate the number of data points\n",
    "#true indicate missing\n",
    "#.sum we will add all the missing values (True=1, False=0)\n",
    "combined.isnull().sum()"
   ]
  },
  {
   "cell_type": "code",
   "execution_count": 57,
   "metadata": {},
   "outputs": [
    {
     "data": {
      "text/plain": [
       "12.792854228644284"
      ]
     },
     "execution_count": 57,
     "metadata": {},
     "output_type": "execute_result"
    }
   ],
   "source": [
    "Item_Weight_mean = combined.Item_Weight.mean(skipna=True)\n",
    "Item_Weight_mean"
   ]
  },
  {
   "cell_type": "code",
   "execution_count": 63,
   "metadata": {},
   "outputs": [],
   "source": [
    "combined_mean_impute = combined.copy(deep=True)"
   ]
  },
  {
   "cell_type": "code",
   "execution_count": 64,
   "metadata": {},
   "outputs": [
    {
     "data": {
      "text/plain": [
       "(91593680, 91643184)"
      ]
     },
     "execution_count": 64,
     "metadata": {},
     "output_type": "execute_result"
    }
   ],
   "source": [
    "id(combined_mean_impute), id(combined.copy(deep=True))"
   ]
  },
  {
   "cell_type": "code",
   "execution_count": 66,
   "metadata": {},
   "outputs": [],
   "source": [
    "combined_mean_impute.Item_Weight.fillna(Item_Weight_mean, inplace=True)"
   ]
  },
  {
   "cell_type": "code",
   "execution_count": 67,
   "metadata": {},
   "outputs": [
    {
     "data": {
      "text/plain": [
       "count    11765.000000\n",
       "mean        12.792854\n",
       "std          4.652502\n",
       "min          4.555000\n",
       "25%          8.710000\n",
       "50%         12.600000\n",
       "75%         16.750000\n",
       "max         21.350000\n",
       "Name: Item_Weight, dtype: float64"
      ]
     },
     "execution_count": 67,
     "metadata": {},
     "output_type": "execute_result"
    }
   ],
   "source": [
    "combined_mean_input.Item_Weight.describe()"
   ]
  },
  {
   "cell_type": "code",
   "execution_count": 70,
   "metadata": {},
   "outputs": [],
   "source": [
    "#method (median imputation)\n",
    "#we input the median of rest of data in pkace of missing value\n",
    "Item_Weight_median = combined.Item_Weight.median(skipna=True)\n"
   ]
  },
  {
   "cell_type": "code",
   "execution_count": 71,
   "metadata": {},
   "outputs": [
    {
     "data": {
      "text/plain": [
       "12.6"
      ]
     },
     "execution_count": 71,
     "metadata": {},
     "output_type": "execute_result"
    }
   ],
   "source": [
    "Item_Weight_median"
   ]
  },
  {
   "cell_type": "code",
   "execution_count": 73,
   "metadata": {},
   "outputs": [],
   "source": [
    "#now we will place this value at the place of missing value\n",
    "#we will make another dataset to observe\n",
    "combined_median_impute = combined.copy(deep=True)"
   ]
  },
  {
   "cell_type": "code",
   "execution_count": 75,
   "metadata": {},
   "outputs": [
    {
     "data": {
      "text/plain": [
       "(91722736, 168480304)"
      ]
     },
     "execution_count": 75,
     "metadata": {},
     "output_type": "execute_result"
    }
   ],
   "source": [
    "id(combined_median_impute), id(combined.copy(deep=True))"
   ]
  },
  {
   "cell_type": "code",
   "execution_count": 80,
   "metadata": {},
   "outputs": [],
   "source": [
    "combined_median_impute.Item_Weight.fillna(Item_Weight_median, inplace=True)\n"
   ]
  },
  {
   "cell_type": "code",
   "execution_count": 82,
   "metadata": {},
   "outputs": [
    {
     "data": {
      "text/plain": [
       "count    14204.000000\n",
       "mean        12.759739\n",
       "std          4.234851\n",
       "min          4.555000\n",
       "25%          9.300000\n",
       "50%         12.600000\n",
       "75%         16.000000\n",
       "max         21.350000\n",
       "Name: Item_Weight, dtype: float64"
      ]
     },
     "execution_count": 82,
     "metadata": {},
     "output_type": "execute_result"
    }
   ],
   "source": [
    "combined_median_impute.Item_Weight.describe()"
   ]
  },
  {
   "cell_type": "code",
   "execution_count": 83,
   "metadata": {},
   "outputs": [],
   "source": [
    "#first we need to understand the distrubution of Item_Weight we can understand it better if we can visually see ith\n",
    "#here we will plot the histogram\n",
    "%matplotlib inline\n",
    "#inline matplotlib command\n"
   ]
  },
  {
   "cell_type": "code",
   "execution_count": 84,
   "metadata": {},
   "outputs": [
    {
     "data": {
      "text/plain": [
       "<matplotlib.axes._subplots.AxesSubplot at 0xb587bb0>"
      ]
     },
     "execution_count": 84,
     "metadata": {},
     "output_type": "execute_result"
    },
    {
     "data": {
      "image/png": "[encoded data removed]",
      "text/plain": [
       "<Figure size 720x432 with 1 Axes>"
      ]
     },
     "metadata": {},
     "output_type": "display_data"
    }
   ],
   "source": [
    "combined.Item_Weight.plot(kind='hist', color='white', edgecolor='black', figsize=(10,6), title='Histogram of Item_Weight')\n"
   ]
  },
  {
   "cell_type": "code",
   "execution_count": 88,
   "metadata": {},
   "outputs": [
    {
     "data": {
      "text/plain": [
       "<matplotlib.axes._subplots.AxesSubplot at 0xc7730b0>"
      ]
     },
     "execution_count": 88,
     "metadata": {},
     "output_type": "execute_result"
    },
    {
     "data": {
      "image/png": "[encoded data removed]",
      "text/plain": [
       "<Figure size 864x432 with 1 Axes>"
      ]
     },
     "metadata": {},
     "output_type": "display_data"
    }
   ],
   "source": [
    "combined_mean_impute.Item_Weight.plot(kind='hist', color='white', edgecolor='black', figsize=(12,6), title='Histogram of Item_Weight')"
   ]
  },
  {
   "cell_type": "code",
   "execution_count": 89,
   "metadata": {},
   "outputs": [
    {
     "data": {
      "text/plain": [
       "<matplotlib.axes._subplots.AxesSubplot at 0xc647730>"
      ]
     },
     "execution_count": 89,
     "metadata": {},
     "output_type": "execute_result"
    },
    {
     "data": {
      "image/png": "[encoded data removed]",
      "text/plain": [
       "<Figure size 864x432 with 1 Axes>"
      ]
     },
     "metadata": {},
     "output_type": "display_data"
    }
   ],
   "source": [
    "combined_median_impute.Item_Weight.plot(kind='hist', color='white', edgecolor='black', figsize=(12,6), title='Histogram of Item_Weight')"
   ]
  },
  {
   "cell_type": "code",
   "execution_count": 90,
   "metadata": {},
   "outputs": [
    {
     "data": {
      "text/plain": [
       "Low Fat    8485\n",
       "Regular    4824\n",
       "LF          522\n",
       "reg         195\n",
       "low fat     178\n",
       "Name: Item_Fat_Content, dtype: int64"
      ]
     },
     "execution_count": 90,
     "metadata": {},
     "output_type": "execute_result"
    }
   ],
   "source": [
    "combined_mean_impute.Item_Fat_Content.value_counts()\n"
   ]
  },
  {
   "cell_type": "code",
   "execution_count": 91,
   "metadata": {},
   "outputs": [
    {
     "data": {
      "text/plain": [
       "Low Fat    9185\n",
       "Regular    5019\n",
       "Name: Item_Fat_Content, dtype: int64"
      ]
     },
     "execution_count": 91,
     "metadata": {},
     "output_type": "execute_result"
    }
   ],
   "source": [
    "combined.loc[combined.Item_Fat_Content.isin(['LF', 'low fat']),'Item_Fat_Content'] = 'Low Fat'\n",
    "combined.loc[combined.Item_Fat_Content.isin(['reg']),'Item_Fat_Content'] = 'Regular'\n",
    "combined.Item_Fat_Content.value_counts() # Viewing the variable\n"
   ]
  },
  {
   "cell_type": "code",
   "execution_count": 92,
   "metadata": {},
   "outputs": [],
   "source": [
    "combined.loc[combined.Item_Type.isin(['Health and Hygiene', 'Household', 'Others']),'Item_Fat_Content'] = 'None'"
   ]
  },
  {
   "cell_type": "code",
   "execution_count": 93,
   "metadata": {},
   "outputs": [
    {
     "data": {
      "text/plain": [
       "Low Fat    6499\n",
       "Regular    5019\n",
       "None       2686\n",
       "Name: Item_Fat_Content, dtype: int64"
      ]
     },
     "execution_count": 93,
     "metadata": {},
     "output_type": "execute_result"
    }
   ],
   "source": [
    "combined.Item_Fat_Content.value_counts() # Viewing the variable\n"
   ]
  },
  {
   "cell_type": "code",
   "execution_count": 94,
   "metadata": {},
   "outputs": [
    {
     "data": {
      "text/plain": [
       "OUT027    1559\n",
       "OUT013    1553\n",
       "OUT049    1550\n",
       "OUT035    1550\n",
       "OUT046    1550\n",
       "OUT045    1548\n",
       "OUT018    1546\n",
       "OUT017    1543\n",
       "OUT010     925\n",
       "OUT019     880\n",
       "Name: Outlet_Identifier, dtype: int64"
      ]
     },
     "execution_count": 94,
     "metadata": {},
     "output_type": "execute_result"
    }
   ],
   "source": [
    "combined.Outlet_Identifier.value_counts()\n"
   ]
  },
  {
   "cell_type": "code",
   "execution_count": 95,
   "metadata": {},
   "outputs": [
    {
     "data": {
      "text/plain": [
       "Outlet_Identifier  Outlet_Size\n",
       "OUT010             NaN             925\n",
       "OUT013             High           1553\n",
       "OUT017             NaN            1543\n",
       "OUT018             Medium         1546\n",
       "OUT019             Small           880\n",
       "OUT027             Medium         1559\n",
       "OUT035             Small          1550\n",
       "OUT045             NaN            1548\n",
       "OUT046             Small          1550\n",
       "OUT049             Medium         1550\n",
       "Name: Outlet_Size, dtype: int64"
      ]
     },
     "execution_count": 95,
     "metadata": {},
     "output_type": "execute_result"
    }
   ],
   "source": [
    "combined.groupby('Outlet_Identifier').Outlet_Size.value_counts(dropna=False)\n"
   ]
  },
  {
   "cell_type": "code",
   "execution_count": 96,
   "metadata": {},
   "outputs": [
    {
     "data": {
      "text/plain": [
       "Outlet_Type        Outlet_Size\n",
       "Grocery Store      NaN             925\n",
       "                   Small           880\n",
       "Supermarket Type1  Small          3100\n",
       "                   NaN            3091\n",
       "                   High           1553\n",
       "                   Medium         1550\n",
       "Supermarket Type2  Medium         1546\n",
       "Supermarket Type3  Medium         1559\n",
       "Name: Outlet_Size, dtype: int64"
      ]
     },
     "execution_count": 96,
     "metadata": {},
     "output_type": "execute_result"
    }
   ],
   "source": [
    "combined.groupby('Outlet_Type').Outlet_Size.value_counts(dropna=False)\n"
   ]
  },
  {
   "cell_type": "code",
   "execution_count": 97,
   "metadata": {},
   "outputs": [
    {
     "data": {
      "text/plain": [
       "Small     7996\n",
       "Medium    4655\n",
       "High      1553\n",
       "Name: Outlet_Size, dtype: int64"
      ]
     },
     "execution_count": 97,
     "metadata": {},
     "output_type": "execute_result"
    }
   ],
   "source": [
    "combined.loc[combined.Outlet_Identifier.isin(['OUT010','OUT017','OUT045']), 'Outlet_Size'] = 'Small'\n",
    "combined.Outlet_Size.value_counts()"
   ]
  },
  {
   "cell_type": "code",
   "execution_count": 98,
   "metadata": {},
   "outputs": [
    {
     "data": {
      "text/plain": [
       "1985    2439\n",
       "1987    1553\n",
       "1999    1550\n",
       "1997    1550\n",
       "2004    1550\n",
       "2002    1548\n",
       "2009    1546\n",
       "2007    1543\n",
       "1998     925\n",
       "Name: Outlet_Establishment_Year, dtype: int64"
      ]
     },
     "execution_count": 98,
     "metadata": {},
     "output_type": "execute_result"
    }
   ],
   "source": [
    "combined.Outlet_Establishment_Year.value_counts()\n"
   ]
  },
  {
   "cell_type": "code",
   "execution_count": 99,
   "metadata": {},
   "outputs": [],
   "source": [
    "combined.Outlet_Establishment_Year = 2013-combined.Outlet_Establishment_Year# Since this is 2013 data\n"
   ]
  },
  {
   "cell_type": "code",
   "execution_count": 100,
   "metadata": {},
   "outputs": [
    {
     "data": {
      "text/plain": [
       "4     1546\n",
       "6     1543\n",
       "9     1550\n",
       "11    1548\n",
       "14    1550\n",
       "15     925\n",
       "16    1550\n",
       "26    1553\n",
       "28    2439\n",
       "Name: Outlet_Establishment_Year, dtype: int64"
      ]
     },
     "execution_count": 100,
     "metadata": {},
     "output_type": "execute_result"
    }
   ],
   "source": [
    "combined.Outlet_Establishment_Year.value_counts().sort_index() \n"
   ]
  },
  {
   "cell_type": "code",
   "execution_count": 102,
   "metadata": {},
   "outputs": [],
   "source": [
    "import seaborn as sns"
   ]
  },
  {
   "cell_type": "code",
   "execution_count": 104,
   "metadata": {},
   "outputs": [
    {
     "data": {
      "text/plain": [
       "<matplotlib.axes._subplots.AxesSubplot at 0xcd3f4d0>"
      ]
     },
     "execution_count": 104,
     "metadata": {},
     "output_type": "execute_result"
    },
    {
     "data": {
      "image/png": "[encoded data removed]",
      "text/plain": [
       "<Figure size 432x288 with 1 Axes>"
      ]
     },
     "metadata": {},
     "output_type": "display_data"
    }
   ],
   "source": [
    "sns.kdeplot(data=combined.Item_MRP, bw=.2)\n"
   ]
  },
  {
   "cell_type": "code",
   "execution_count": 105,
   "metadata": {},
   "outputs": [
    {
     "data": {
      "text/plain": [
       "High         5089\n",
       "Medium       4505\n",
       "Very High    2402\n",
       "Low          2208\n",
       "Name: MRP_Factor, dtype: int64"
      ]
     },
     "execution_count": 105,
     "metadata": {},
     "output_type": "execute_result"
    }
   ],
   "source": [
    "combined['MRP_Factor'] = pd.cut(combined.Item_MRP, [0,70,130,201,400], labels=['Low', 'Medium', 'High', 'Very High'])\n",
    "combined.MRP_Factor.value_counts()"
   ]
  },
  {
   "cell_type": "code",
   "execution_count": 106,
   "metadata": {},
   "outputs": [
    {
     "data": {
      "text/plain": [
       "Item_Fat_Content                   Low Fat\n",
       "Item_Identifier                      DRA12\n",
       "Item_Outlet_Sales                    33.29\n",
       "Item_Type                     Baking Goods\n",
       "Item_Visibility                          0\n",
       "Item_Weight                          4.555\n",
       "Item_outlet_Sales                     None\n",
       "Outlet_Establishment_Year                4\n",
       "Outlet_Identifier                   OUT010\n",
       "Outlet_Location_Type                Tier 1\n",
       "Outlet_Size                           High\n",
       "Outlet_Type                  Grocery Store\n",
       "MRP_Factor                            High\n",
       "dtype: object"
      ]
     },
     "execution_count": 106,
     "metadata": {},
     "output_type": "execute_result"
    }
   ],
   "source": [
    "combined.drop('Item_MRP', axis=1, inplace=True)\n",
    "combined.min()"
   ]
  },
  {
   "cell_type": "code",
   "execution_count": 107,
   "metadata": {},
   "outputs": [
    {
     "data": {
      "text/plain": [
       "Item_Identifier\n",
       "DRA12    0.044920\n",
       "DRA24    0.045646\n",
       "DRA59    0.148204\n",
       "DRB01    0.091127\n",
       "DRB13    0.007648\n",
       "DRB24    0.020596\n",
       "DRB25    0.079407\n",
       "DRB48    0.026970\n",
       "DRC01    0.020653\n",
       "DRC12    0.037862\n",
       "DRC13    0.032467\n",
       "DRC24    0.026913\n",
       "DRC25    0.052616\n",
       "DRC27    0.066423\n",
       "DRC36    0.052147\n",
       "DRC49    0.070950\n",
       "DRD01    0.066330\n",
       "DRD12    0.084742\n",
       "DRD13    0.049125\n",
       "DRD15    0.064930\n",
       "DRD24    0.035205\n",
       "DRD25    0.091538\n",
       "DRD27    0.026416\n",
       "DRD37    0.015021\n",
       "DRD49    0.167987\n",
       "DRD60    0.040369\n",
       "DRE01    0.179808\n",
       "DRE03    0.026061\n",
       "DRE12    0.070835\n",
       "DRE13    0.031673\n",
       "           ...   \n",
       "NCX05    0.110962\n",
       "NCX06    0.017934\n",
       "NCX17    0.113709\n",
       "NCX18    0.010367\n",
       "NCX29    0.101920\n",
       "NCX30    0.028864\n",
       "NCX41    0.019212\n",
       "NCX42    0.006482\n",
       "NCX53    0.016210\n",
       "NCX54    0.051698\n",
       "NCY05    0.059645\n",
       "NCY06    0.065816\n",
       "NCY17    0.163222\n",
       "NCY18    0.033510\n",
       "NCY29    0.088295\n",
       "NCY30    0.028140\n",
       "NCY41    0.086582\n",
       "NCY42    0.016440\n",
       "NCY53    0.064031\n",
       "NCY54    0.191145\n",
       "NCZ05    0.063030\n",
       "NCZ06    0.102096\n",
       "NCZ17    0.086140\n",
       "NCZ18    0.203574\n",
       "NCZ29    0.076774\n",
       "NCZ30    0.030335\n",
       "NCZ41    0.064452\n",
       "NCZ42    0.012239\n",
       "NCZ53    0.026330\n",
       "NCZ54    0.090383\n",
       "Name: Item_Visibility, Length: 1559, dtype: float64"
      ]
     },
     "execution_count": 107,
     "metadata": {},
     "output_type": "execute_result"
    }
   ],
   "source": [
    "## Notice that Item_Visibility has a minimum value of 0. It seems absurd that an item has 0 \n",
    "## visibility. Therefore, we will modify that column.\n",
    "## Here we Group by Item_Identifier, calculate mean for each group(excluding zero values), then we proceed\n",
    "## to replace the zero values in each group with the group's mean.\n",
    "\n",
    "## we have to replace 0's by na because, mean() doesnt support exclude '0' parameter \n",
    "##but it includes exclude nan parameter which is true by default\n",
    "combined_mean_impute.loc[combined.Item_Visibility == 0, 'Item_Visibility'] = np.nan\n",
    "#aggregate by Item_Identifier\n",
    "IV_mean = combined_mean_impute.groupby('Item_Identifier').Item_Visibility.mean()\n",
    "IV_mean"
   ]
  },
  {
   "cell_type": "code",
   "execution_count": 108,
   "metadata": {},
   "outputs": [
    {
     "data": {
      "text/plain": [
       "count    14204.000000\n",
       "mean         0.070631\n",
       "std          0.050080\n",
       "min          0.003575\n",
       "25%          0.031339\n",
       "50%          0.058127\n",
       "75%          0.098506\n",
       "max          0.328391\n",
       "Name: Item_Visibility, dtype: float64"
      ]
     },
     "execution_count": 108,
     "metadata": {},
     "output_type": "execute_result"
    }
   ],
   "source": [
    "#replace 0 values\n",
    "for index, row in combined.iterrows():\n",
    "    if(row.Item_Visibility == 0):\n",
    "        combined.loc[index, 'Item_Visibility'] = IV_mean[row.Item_Identifier]\n",
    "        #print(combined.loc[index, 'Item_Visibility'])\n",
    "combined.Item_Visibility.describe()\n",
    "## see that min value is not zero anymore"
   ]
  },
  {
   "cell_type": "code",
   "execution_count": 109,
   "metadata": {},
   "outputs": [
    {
     "data": {
      "text/plain": [
       "Foods              10201\n",
       "Non-Consumables     2686\n",
       "Drinks              1317\n",
       "Name: Item_Type_Broad, dtype: int64"
      ]
     },
     "execution_count": 109,
     "metadata": {},
     "output_type": "execute_result"
    }
   ],
   "source": [
    "combined['Item_Type_Broad'] = np.nan\n",
    "combined.loc[combined.Item_Identifier.str.contains('DR'), 'Item_Type_Broad'] = 'Drinks'\n",
    "combined.loc[combined.Item_Identifier.str.contains('FD'), 'Item_Type_Broad'] = 'Foods'\n",
    "combined.loc[combined.Item_Identifier.str.contains('NC'), 'Item_Type_Broad'] = 'Non-Consumables'\n",
    "combined.Item_Type_Broad.value_counts()"
   ]
  },
  {
   "cell_type": "code",
   "execution_count": 110,
   "metadata": {},
   "outputs": [
    {
     "data": {
      "text/plain": [
       "Refrigerated    3646\n",
       "NaN             3591\n",
       "Snacks          2715\n",
       "Others          1828\n",
       "Bakery          1502\n",
       "Non-Veg          736\n",
       "NOTA             186\n",
       "Name: Item_Type_Broad_2, dtype: int64"
      ]
     },
     "execution_count": 110,
     "metadata": {},
     "output_type": "execute_result"
    }
   ],
   "source": [
    "#We will aso create a more brief Item_Type_Broad2 from Item_Type\n",
    "combined['Item_Type_Broad_2'] = np.nan\n",
    "combined.loc[combined.Item_Type.isin([\"Baking Goods\",\"Breads\"]), 'Item_Type_Broad_2'] = 'Bakery'\n",
    "combined.loc[combined.Item_Type.isin([\"Canned\",\"Frozen Foods\", \"Dairy\"]), 'Item_Type_Broad_2'] = 'Refrigerated'\n",
    "combined.loc[combined.Item_Type.isin([\"Meat\",\"Sea Food\"]), 'Item_Type_Broad_2'] = 'Non-Veg'\n",
    "combined.loc[combined.Item_Type.isin([\"Household\",\"Others\", \"Health and Hygeine\"]), 'Item_Type_Broad_2'] = 'Others'\n",
    "combined.loc[combined.Item_Type.isin(['Hard Drinks']), 'Others'] = 'Alcoholic'\n",
    "combined.loc[combined.Item_Type.isin([\"Snack Foods\",\"Soft Drinks\", \"Snacks\"]), 'Item_Type_Broad_2'] = 'Snacks'\n",
    "combined.loc[combined.Item_Type.isin([\"Breakfast\"]), 'Item_Type_Broad_2'] = 'NOTA'\n",
    "combined.Item_Type_Broad_2.value_counts(dropna=False)"
   ]
  },
  {
   "cell_type": "code",
   "execution_count": 111,
   "metadata": {},
   "outputs": [
    {
     "data": {
      "text/plain": [
       "Item_Fat_Content               object\n",
       "Item_Identifier                object\n",
       "Item_Outlet_Sales             float64\n",
       "Item_Type                      object\n",
       "Item_Visibility               float64\n",
       "Item_Weight                   float64\n",
       "Item_outlet_Sales             float64\n",
       "Outlet_Establishment_Year       int64\n",
       "Outlet_Identifier              object\n",
       "Outlet_Location_Type           object\n",
       "Outlet_Size                    object\n",
       "Outlet_Type                    object\n",
       "MRP_Factor                   category\n",
       "Item_Type_Broad                object\n",
       "Item_Type_Broad_2              object\n",
       "Others                         object\n",
       "dtype: object"
      ]
     },
     "execution_count": 111,
     "metadata": {},
     "output_type": "execute_result"
    }
   ],
   "source": [
    "import matplotlib.pyplot as plt\n",
    "## We will see if any colums as Outlier's\n",
    "##applicable only for numberical values i.e. Item_Weight and Outlet_Establishment_Year and Item_Visibilityf\n",
    "## we will use boxplots\n",
    "combined.dtypes"
   ]
  },
  {
   "cell_type": "code",
   "execution_count": 112,
   "metadata": {},
   "outputs": [
    {
     "data": {
      "text/plain": [
       "<matplotlib.axes._subplots.AxesSubplot at 0xcd90b90>"
      ]
     },
     "execution_count": 112,
     "metadata": {},
     "output_type": "execute_result"
    },
    {
     "data": {
      "image/png": "[encoded data removed]",
      "text/plain": [
       "<Figure size 432x288 with 1 Axes>"
      ]
     },
     "metadata": {},
     "output_type": "display_data"
    }
   ],
   "source": [
    "##lets do it on column of Item_Weight\n",
    "combined.boxplot(\"Item_Weight\")"
   ]
  },
  {
   "cell_type": "code",
   "execution_count": 113,
   "metadata": {},
   "outputs": [
    {
     "data": {
      "text/plain": [
       "<matplotlib.axes._subplots.AxesSubplot at 0xd180f90>"
      ]
     },
     "execution_count": 113,
     "metadata": {},
     "output_type": "execute_result"
    },
    {
     "data": {
      "image/png": "[encoded data removed]",
      "text/plain": [
       "<Figure size 432x288 with 1 Axes>"
      ]
     },
     "metadata": {},
     "output_type": "display_data"
    }
   ],
   "source": [
    "combined.boxplot(\"Outlet_Establishment_Year\")\n"
   ]
  },
  {
   "cell_type": "code",
   "execution_count": 114,
   "metadata": {},
   "outputs": [
    {
     "data": {
      "text/plain": [
       "<matplotlib.axes._subplots.AxesSubplot at 0xd1b71f0>"
      ]
     },
     "execution_count": 114,
     "metadata": {},
     "output_type": "execute_result"
    },
    {
     "data": {
      "image/png": "[encoded data removed]",
      "text/plain": [
       "<Figure size 432x288 with 1 Axes>"
      ]
     },
     "metadata": {},
     "output_type": "display_data"
    }
   ],
   "source": [
    "combined.boxplot(\"Item_Visibility\")\n"
   ]
  },
  {
   "cell_type": "code",
   "execution_count": 115,
   "metadata": {},
   "outputs": [
    {
     "data": {
      "text/plain": [
       "<matplotlib.axes._subplots.AxesSubplot at 0xd1edcb0>"
      ]
     },
     "execution_count": 115,
     "metadata": {},
     "output_type": "execute_result"
    },
    {
     "data": {
      "image/png": "[encoded data removed]",
      "text/plain": [
       "<Figure size 432x288 with 1 Axes>"
      ]
     },
     "metadata": {},
     "output_type": "display_data"
    }
   ],
   "source": [
    "combined.Item_Visibility.plot(kind='hist')\n"
   ]
  },
  {
   "cell_type": "code",
   "execution_count": null,
   "metadata": {},
   "outputs": [],
   "source": []
  }
 ],
 "metadata": {
  "kernelspec": {
   "display_name": "Python 3",
   "language": "python",
   "name": "python3"
  },
  "language_info": {
   "codemirror_mode": {
    "name": "ipython",
    "version": 3
   },
   "file_extension": ".py",
   "mimetype": "text/x-python",
   "name": "python",
   "nbconvert_exporter": "python",
   "pygments_lexer": "ipython3",
   "version": "3.6.5"
  }
 },
 "nbformat": 4,
 "nbformat_minor": 2
}
